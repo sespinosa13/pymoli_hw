{
 "cells": [
  {
   "cell_type": "code",
   "execution_count": 1,
   "metadata": {},
   "outputs": [],
   "source": [
    "import pandas as pd"
   ]
  },
  {
   "cell_type": "code",
   "execution_count": 2,
   "metadata": {},
   "outputs": [
    {
     "data": {
      "text/html": [
       "<div>\n",
       "<style scoped>\n",
       "    .dataframe tbody tr th:only-of-type {\n",
       "        vertical-align: middle;\n",
       "    }\n",
       "\n",
       "    .dataframe tbody tr th {\n",
       "        vertical-align: top;\n",
       "    }\n",
       "\n",
       "    .dataframe thead th {\n",
       "        text-align: right;\n",
       "    }\n",
       "</style>\n",
       "<table border=\"1\" class=\"dataframe\">\n",
       "  <thead>\n",
       "    <tr style=\"text-align: right;\">\n",
       "      <th></th>\n",
       "      <th>SN</th>\n",
       "      <th>Age</th>\n",
       "      <th>Gender</th>\n",
       "      <th>Item ID</th>\n",
       "      <th>Item Name</th>\n",
       "      <th>Price</th>\n",
       "    </tr>\n",
       "  </thead>\n",
       "  <tbody>\n",
       "    <tr>\n",
       "      <th>0</th>\n",
       "      <td>Aelalis34</td>\n",
       "      <td>38</td>\n",
       "      <td>Male</td>\n",
       "      <td>165</td>\n",
       "      <td>Bone Crushing Silver Skewer</td>\n",
       "      <td>3.37</td>\n",
       "    </tr>\n",
       "    <tr>\n",
       "      <th>1</th>\n",
       "      <td>Eolo46</td>\n",
       "      <td>21</td>\n",
       "      <td>Male</td>\n",
       "      <td>119</td>\n",
       "      <td>Stormbringer, Dark Blade of Ending Misery</td>\n",
       "      <td>2.32</td>\n",
       "    </tr>\n",
       "    <tr>\n",
       "      <th>2</th>\n",
       "      <td>Assastnya25</td>\n",
       "      <td>34</td>\n",
       "      <td>Male</td>\n",
       "      <td>174</td>\n",
       "      <td>Primitive Blade</td>\n",
       "      <td>2.46</td>\n",
       "    </tr>\n",
       "    <tr>\n",
       "      <th>3</th>\n",
       "      <td>Pheusrical25</td>\n",
       "      <td>21</td>\n",
       "      <td>Male</td>\n",
       "      <td>92</td>\n",
       "      <td>Final Critic</td>\n",
       "      <td>1.36</td>\n",
       "    </tr>\n",
       "    <tr>\n",
       "      <th>4</th>\n",
       "      <td>Aela59</td>\n",
       "      <td>23</td>\n",
       "      <td>Male</td>\n",
       "      <td>63</td>\n",
       "      <td>Stormfury Mace</td>\n",
       "      <td>1.27</td>\n",
       "    </tr>\n",
       "  </tbody>\n",
       "</table>\n",
       "</div>"
      ],
      "text/plain": [
       "             SN  Age Gender  Item ID  \\\n",
       "0     Aelalis34   38   Male      165   \n",
       "1        Eolo46   21   Male      119   \n",
       "2   Assastnya25   34   Male      174   \n",
       "3  Pheusrical25   21   Male       92   \n",
       "4        Aela59   23   Male       63   \n",
       "\n",
       "                                   Item Name  Price  \n",
       "0                Bone Crushing Silver Skewer   3.37  \n",
       "1  Stormbringer, Dark Blade of Ending Misery   2.32  \n",
       "2                            Primitive Blade   2.46  \n",
       "3                               Final Critic   1.36  \n",
       "4                             Stormfury Mace   1.27  "
      ]
     },
     "execution_count": 2,
     "metadata": {},
     "output_type": "execute_result"
    }
   ],
   "source": [
    "csv_path = \"purchase_data.csv\"\n",
    "purchase_data = pd.read_csv(csv_path)\n",
    "\n",
    "purchase_data.head()"
   ]
  },
  {
   "cell_type": "code",
   "execution_count": 3,
   "metadata": {},
   "outputs": [
    {
     "data": {
      "text/plain": [
       "Male                     633\n",
       "Female                   136\n",
       "Other / Non-Disclosed     11\n",
       "Name: Gender, dtype: int64"
      ]
     },
     "execution_count": 3,
     "metadata": {},
     "output_type": "execute_result"
    }
   ],
   "source": [
    "#Total number of players\n",
    "total_players = purchase_data[\"Gender\"].value_counts()\n",
    "total_players.head()"
   ]
  },
  {
   "cell_type": "code",
   "execution_count": 4,
   "metadata": {},
   "outputs": [
    {
     "data": {
      "text/plain": [
       "179"
      ]
     },
     "execution_count": 4,
     "metadata": {},
     "output_type": "execute_result"
    }
   ],
   "source": [
    "#Total number of items\n",
    "unique_items = len(purchase_data['Item Name'].unique())\n",
    "unique_items"
   ]
  },
  {
   "cell_type": "code",
   "execution_count": 5,
   "metadata": {},
   "outputs": [
    {
     "data": {
      "text/plain": [
       "2.931192307692303"
      ]
     },
     "execution_count": 5,
     "metadata": {},
     "output_type": "execute_result"
    }
   ],
   "source": [
    "#Average item purchase price\n",
    "average_price = purchase_data['Price'].mean()\n",
    "average_price"
   ]
  },
  {
   "cell_type": "code",
   "execution_count": 6,
   "metadata": {},
   "outputs": [
    {
     "data": {
      "text/plain": [
       "780"
      ]
     },
     "execution_count": 6,
     "metadata": {},
     "output_type": "execute_result"
    }
   ],
   "source": [
    "#Total number of purchases\n",
    "total_purchases = purchase_data['Price'].count()\n",
    "total_purchases"
   ]
  },
  {
   "cell_type": "code",
   "execution_count": 7,
   "metadata": {},
   "outputs": [
    {
     "data": {
      "text/plain": [
       "2286.33"
      ]
     },
     "execution_count": 7,
     "metadata": {},
     "output_type": "execute_result"
    }
   ],
   "source": [
    "#Total Revenue\n",
    "total_revenue = purchase_data['Price'].sum()\n",
    "total_revenue"
   ]
  },
  {
   "cell_type": "code",
   "execution_count": 8,
   "metadata": {
    "scrolled": true
   },
   "outputs": [
    {
     "data": {
      "text/html": [
       "<div>\n",
       "<style scoped>\n",
       "    .dataframe tbody tr th:only-of-type {\n",
       "        vertical-align: middle;\n",
       "    }\n",
       "\n",
       "    .dataframe tbody tr th {\n",
       "        vertical-align: top;\n",
       "    }\n",
       "\n",
       "    .dataframe thead th {\n",
       "        text-align: right;\n",
       "    }\n",
       "</style>\n",
       "<table border=\"1\" class=\"dataframe\">\n",
       "  <thead>\n",
       "    <tr style=\"text-align: right;\">\n",
       "      <th></th>\n",
       "      <th>Average Price</th>\n",
       "      <th>Number of Purchases</th>\n",
       "      <th>Total Number of Unique Items</th>\n",
       "      <th>Total Revenue</th>\n",
       "    </tr>\n",
       "  </thead>\n",
       "  <tbody>\n",
       "    <tr>\n",
       "      <th>0</th>\n",
       "      <td>2.931192</td>\n",
       "      <td>780</td>\n",
       "      <td>179</td>\n",
       "      <td>2286.33</td>\n",
       "    </tr>\n",
       "  </tbody>\n",
       "</table>\n",
       "</div>"
      ],
      "text/plain": [
       "   Average Price  Number of Purchases  Total Number of Unique Items  \\\n",
       "0       2.931192                  780                           179   \n",
       "\n",
       "   Total Revenue  \n",
       "0        2286.33  "
      ]
     },
     "execution_count": 8,
     "metadata": {},
     "output_type": "execute_result"
    }
   ],
   "source": [
    "purchase_analysis = pd.DataFrame({\"Total Number of Unique Items\" : [unique_items],\n",
    "                                  \"Average Price\" : [average_price],\n",
    "                                  \"Number of Purchases\" : [total_purchases],\n",
    "                                  \"Total Revenue\" : [total_revenue]})\n",
    "purchase_analysis.head()"
   ]
  },
  {
   "cell_type": "code",
   "execution_count": 9,
   "metadata": {},
   "outputs": [
    {
     "data": {
      "text/html": [
       "<div>\n",
       "<style scoped>\n",
       "    .dataframe tbody tr th:only-of-type {\n",
       "        vertical-align: middle;\n",
       "    }\n",
       "\n",
       "    .dataframe tbody tr th {\n",
       "        vertical-align: top;\n",
       "    }\n",
       "\n",
       "    .dataframe thead th {\n",
       "        text-align: right;\n",
       "    }\n",
       "</style>\n",
       "<table border=\"1\" class=\"dataframe\">\n",
       "  <thead>\n",
       "    <tr style=\"text-align: right;\">\n",
       "      <th></th>\n",
       "      <th>SN</th>\n",
       "      <th>Age</th>\n",
       "      <th>Item ID</th>\n",
       "      <th>Item Name</th>\n",
       "      <th>Price</th>\n",
       "    </tr>\n",
       "    <tr>\n",
       "      <th>Gender</th>\n",
       "      <th></th>\n",
       "      <th></th>\n",
       "      <th></th>\n",
       "      <th></th>\n",
       "      <th></th>\n",
       "    </tr>\n",
       "  </thead>\n",
       "  <tbody>\n",
       "    <tr>\n",
       "      <th>Female</th>\n",
       "      <td>136</td>\n",
       "      <td>136</td>\n",
       "      <td>136</td>\n",
       "      <td>136</td>\n",
       "      <td>136</td>\n",
       "    </tr>\n",
       "    <tr>\n",
       "      <th>Male</th>\n",
       "      <td>633</td>\n",
       "      <td>633</td>\n",
       "      <td>633</td>\n",
       "      <td>633</td>\n",
       "      <td>633</td>\n",
       "    </tr>\n",
       "    <tr>\n",
       "      <th>Other / Non-Disclosed</th>\n",
       "      <td>11</td>\n",
       "      <td>11</td>\n",
       "      <td>11</td>\n",
       "      <td>11</td>\n",
       "      <td>11</td>\n",
       "    </tr>\n",
       "  </tbody>\n",
       "</table>\n",
       "</div>"
      ],
      "text/plain": [
       "                        SN  Age  Item ID  Item Name  Price\n",
       "Gender                                                    \n",
       "Female                 136  136      136        136    136\n",
       "Male                   633  633      633        633    633\n",
       "Other / Non-Disclosed   11   11       11         11     11"
      ]
     },
     "execution_count": 9,
     "metadata": {},
     "output_type": "execute_result"
    }
   ],
   "source": [
    "# Count male/female/other players\n",
    "\n",
    "grouped_gender = purchase_data.groupby(['Gender'])\n",
    "\n",
    "\n",
    "\n",
    "\n",
    "total_gender = grouped_gender['Gender'].value_counts()\n",
    "\n",
    "male_players = grouped_gender['Gender'].value_counts()['Male']\n",
    "female_players = grouped_gender['Gender'].value_counts()['Female']\n",
    "other_players = grouped_gender['Gender'].value_counts()['Other / Non-Disclosed']\n",
    "\n",
    "\n",
    "male_percentage = (male_players/total_gender) * 100\n",
    "female_percentage = (female_players/total_gender) * 100\n",
    "other_percentage = (other_players/total_gender) * 100\n",
    "\n",
    "grouped_gender.count().head()\n"
   ]
  },
  {
   "cell_type": "code",
   "execution_count": null,
   "metadata": {},
   "outputs": [],
   "source": [
    "\n",
    "\n"
   ]
  },
  {
   "cell_type": "code",
   "execution_count": 10,
   "metadata": {},
   "outputs": [
    {
     "data": {
      "text/plain": [
       "2.950521327014218"
      ]
     },
     "execution_count": 10,
     "metadata": {},
     "output_type": "execute_result"
    }
   ],
   "source": [
    "#Male only dF\n",
    "\n",
    "male_data = purchase_data.loc[purchase_data['Gender'] == \"Male\",:]\n",
    "male_data.head()\n",
    "\n",
    "#Female only\n",
    "\n",
    "female_data = purchase_data.loc[purchase_data['Gender'] == \"Female\",:]\n",
    "female_data.head()\n",
    "\n",
    "#Other only\n",
    "other_data = purchase_data.loc[purchase_data['Gender']== \"Other / Non-Disclosed\",:]\n",
    "other_data.head()\n",
    "\n",
    "\n",
    "other_purchases = other_data['Item Name'].count()\n",
    "other_purchases\n",
    "\n",
    "other_avg_price = other_data['Price'].mean()\n",
    "other_avg_price\n",
    "\n",
    "other_total_value = other_data['Price'].sum()\n",
    "other_total_value\n",
    "\n",
    "other_normalized =  other_total_value / other_purchases\n",
    "other_normalized\n",
    "\n",
    "\n",
    "female_purchases = female_data['Item Name'].count()\n",
    "female_purchases\n",
    "\n",
    "female_avg_price = female_data['Price'].mean()\n",
    "female_avg_price\n",
    "\n",
    "female_total_value = female_data['Price'].sum()\n",
    "female_total_value\n",
    "\n",
    "female_normalized =  female_total_value / female_purchases\n",
    "female_normalized\n",
    "\n",
    "\n",
    "\n",
    "male_purchases = male_data['Item Name'].count()\n",
    "male_purchases\n",
    "\n",
    "male_avg_price = male_data['Price'].mean()\n",
    "male_avg_price\n",
    "\n",
    "male_total_value = male_data['Price'].sum()\n",
    "male_total_value\n",
    "\n",
    "male_normalized =  male_total_value / male_purchases\n",
    "male_normalized\n",
    "\n",
    "\n",
    "\n",
    "\n"
   ]
  },
  {
   "cell_type": "code",
   "execution_count": 11,
   "metadata": {},
   "outputs": [
    {
     "data": {
      "text/html": [
       "<div>\n",
       "<style scoped>\n",
       "    .dataframe tbody tr th:only-of-type {\n",
       "        vertical-align: middle;\n",
       "    }\n",
       "\n",
       "    .dataframe tbody tr th {\n",
       "        vertical-align: top;\n",
       "    }\n",
       "\n",
       "    .dataframe thead th {\n",
       "        text-align: right;\n",
       "    }\n",
       "</style>\n",
       "<table border=\"1\" class=\"dataframe\">\n",
       "  <thead>\n",
       "    <tr style=\"text-align: right;\">\n",
       "      <th></th>\n",
       "      <th>SN</th>\n",
       "      <th>Age</th>\n",
       "      <th>Gender</th>\n",
       "      <th>Item ID</th>\n",
       "      <th>Item Name</th>\n",
       "      <th>Price</th>\n",
       "    </tr>\n",
       "    <tr>\n",
       "      <th>Age Demographics</th>\n",
       "      <th></th>\n",
       "      <th></th>\n",
       "      <th></th>\n",
       "      <th></th>\n",
       "      <th></th>\n",
       "      <th></th>\n",
       "    </tr>\n",
       "  </thead>\n",
       "  <tbody>\n",
       "    <tr>\n",
       "      <th>&lt;10</th>\n",
       "      <td>32</td>\n",
       "      <td>32</td>\n",
       "      <td>32</td>\n",
       "      <td>32</td>\n",
       "      <td>32</td>\n",
       "      <td>32</td>\n",
       "    </tr>\n",
       "    <tr>\n",
       "      <th>11-14</th>\n",
       "      <td>31</td>\n",
       "      <td>31</td>\n",
       "      <td>31</td>\n",
       "      <td>31</td>\n",
       "      <td>31</td>\n",
       "      <td>31</td>\n",
       "    </tr>\n",
       "    <tr>\n",
       "      <th>15-19</th>\n",
       "      <td>133</td>\n",
       "      <td>133</td>\n",
       "      <td>133</td>\n",
       "      <td>133</td>\n",
       "      <td>133</td>\n",
       "      <td>133</td>\n",
       "    </tr>\n",
       "    <tr>\n",
       "      <th>20-23</th>\n",
       "      <td>266</td>\n",
       "      <td>266</td>\n",
       "      <td>266</td>\n",
       "      <td>266</td>\n",
       "      <td>266</td>\n",
       "      <td>266</td>\n",
       "    </tr>\n",
       "    <tr>\n",
       "      <th>24-27</th>\n",
       "      <td>169</td>\n",
       "      <td>169</td>\n",
       "      <td>169</td>\n",
       "      <td>169</td>\n",
       "      <td>169</td>\n",
       "      <td>169</td>\n",
       "    </tr>\n",
       "  </tbody>\n",
       "</table>\n",
       "</div>"
      ],
      "text/plain": [
       "                   SN  Age  Gender  Item ID  Item Name  Price\n",
       "Age Demographics                                             \n",
       "<10                32   32      32       32         32     32\n",
       "11-14              31   31      31       31         31     31\n",
       "15-19             133  133     133      133        133    133\n",
       "20-23             266  266     266      266        266    266\n",
       "24-27             169  169     169      169        169    169"
      ]
     },
     "execution_count": 11,
     "metadata": {},
     "output_type": "execute_result"
    }
   ],
   "source": [
    "#Age demographics\n",
    "\n",
    "age_min = purchase_data['Age'].min()\n",
    "age_min\n",
    "\n",
    "age_max = purchase_data['Age'].max()\n",
    "age_max\n",
    "\n",
    "\n",
    "#Age binning\n",
    "\n",
    "bins =[0, 10, 14, 19, 23, 27, 31, 35, 39, 43, 47, 48]\n",
    "\n",
    "group_names = ['<10', '11-14', '15-19', '20-23', '24-27', '28-31','32-35','36-39','40-43', '44-47', '48+']\n",
    "\n",
    "pd.cut(purchase_data[\"Age\"], bins, labels=group_names)\n",
    "\n",
    "purchase_data['Age Demographics'] = pd.cut(purchase_data[\"Age\"], bins, labels=group_names)\n",
    "\n",
    "age_demographics = purchase_data.groupby('Age Demographics')\n",
    "\n",
    "age_demographics.count().head()"
   ]
  },
  {
   "cell_type": "code",
   "execution_count": 12,
   "metadata": {},
   "outputs": [
    {
     "data": {
      "text/plain": [
       "Age Demographics\n",
       "<10       32\n",
       "11-14     31\n",
       "15-19    133\n",
       "20-23    266\n",
       "24-27    169\n",
       "28-31     60\n",
       "32-35     42\n",
       "36-39     30\n",
       "40-43     16\n",
       "44-47      1\n",
       "48+        0\n",
       "Name: Price, dtype: int64"
      ]
     },
     "execution_count": 12,
     "metadata": {},
     "output_type": "execute_result"
    }
   ],
   "source": [
    "purchase_count= age_demographics[\"Price\"].count()\n",
    "purchase_count"
   ]
  },
  {
   "cell_type": "code",
   "execution_count": 13,
   "metadata": {},
   "outputs": [
    {
     "data": {
      "text/plain": [
       "Age Demographics\n",
       "<10      3.019375\n",
       "11-14    2.702903\n",
       "15-19    2.905414\n",
       "20-23    2.877105\n",
       "24-27    3.017870\n",
       "28-31    2.956667\n",
       "32-35    3.110476\n",
       "36-39    2.746000\n",
       "40-43    3.189375\n",
       "44-47    2.720000\n",
       "48+           NaN\n",
       "Name: Price, dtype: float64"
      ]
     },
     "execution_count": 13,
     "metadata": {},
     "output_type": "execute_result"
    }
   ],
   "source": [
    "avg_price = age_demographics['Price'].mean()\n",
    "avg_price"
   ]
  },
  {
   "cell_type": "code",
   "execution_count": 14,
   "metadata": {},
   "outputs": [
    {
     "data": {
      "text/plain": [
       "Age Demographics\n",
       "<10       96.62\n",
       "11-14     83.79\n",
       "15-19    386.42\n",
       "20-23    765.31\n",
       "24-27    510.02\n",
       "28-31    177.40\n",
       "32-35    130.64\n",
       "36-39     82.38\n",
       "40-43     51.03\n",
       "44-47      2.72\n",
       "48+        0.00\n",
       "Name: Price, dtype: float64"
      ]
     },
     "execution_count": 14,
     "metadata": {},
     "output_type": "execute_result"
    }
   ],
   "source": [
    "total_purchase = age_demographics['Price'].sum()\n",
    "total_purchase"
   ]
  },
  {
   "cell_type": "code",
   "execution_count": 15,
   "metadata": {},
   "outputs": [
    {
     "data": {
      "text/plain": [
       "Age Demographics\n",
       "<10      3.019375\n",
       "11-14    2.702903\n",
       "15-19    2.905414\n",
       "20-23    2.877105\n",
       "24-27    3.017870\n",
       "28-31    2.956667\n",
       "32-35    3.110476\n",
       "36-39    2.746000\n",
       "40-43    3.189375\n",
       "44-47    2.720000\n",
       "48+           NaN\n",
       "Name: Price, dtype: float64"
      ]
     },
     "execution_count": 15,
     "metadata": {},
     "output_type": "execute_result"
    }
   ],
   "source": [
    "normalized_totals = age_demographics['Price'].mean()\n",
    "normalized_totals"
   ]
  },
  {
   "cell_type": "code",
   "execution_count": 16,
   "metadata": {},
   "outputs": [
    {
     "data": {
      "text/plain": [
       "Final Critic                                    14\n",
       "Arcane Gem                                      11\n",
       "Betrayal, Whisper of Grieving Widows            11\n",
       "Stormcaller                                     10\n",
       "Trickster                                        9\n",
       "Serenity                                         9\n",
       "Retribution Axe                                  9\n",
       "Woeful Adamantite Claymore                       9\n",
       "Crucifer                                         8\n",
       "Bonecarvin Battle Axe                            8\n",
       "Splitter, Foe Of Subtlety                        8\n",
       "Darkheart                                        8\n",
       "Crying Steel Sickle                              8\n",
       "Conqueror Adamantite Mace                        8\n",
       "Brimstone                                        7\n",
       "Torchlight, Bond of Storms                       7\n",
       "Victor Iron Spikes                               7\n",
       "Alpha                                            7\n",
       "Persuasion                                       7\n",
       "Blade of the Grave                               7\n",
       "Feral Katana                                     7\n",
       "Darkheart, Butcher of the Champion               7\n",
       "Extraction, Quickblade Of Trembling Hands        7\n",
       "Wolf, Promise of the Moonwalker                  7\n",
       "Spectral Diamond Doomblade                       7\n",
       "Alpha, Oath of Zeal                              7\n",
       "Warmonger, Gift of Suffering's End               6\n",
       "Sleepwalker                                      6\n",
       "Amnesia                                          6\n",
       "Celeste                                          6\n",
       "                                                ..\n",
       "Blood-Forged Skeletal Spine                      2\n",
       "Warped Fetish                                    2\n",
       "Tranquility, Razor of Black Magic                2\n",
       "Foul Titanium Battle Axe                         2\n",
       "Freak's Bite, Favor of Holy Might                2\n",
       "Dreamsong                                        2\n",
       "Worldbreaker                                     2\n",
       "Warped Iron Scimitar                             2\n",
       "Oathbreaker, Last Hope of the Breaking Storm     2\n",
       "Fusion Pummel                                    2\n",
       "Renewed Skeletal Katana                          2\n",
       "Winter's Bite                                    2\n",
       "Blazefury, Protector of Delusions                2\n",
       "Emberling, Defender of Delusions                 2\n",
       "Vindictive Glass Edge                            2\n",
       "Yearning Crusher                                 2\n",
       "Exiled Mithril Longsword                         1\n",
       "Downfall, Scalpel Of The Emperor                 1\n",
       "Splinter                                         1\n",
       "Phantomlight                                     1\n",
       "Bloodlord's Fetish                               1\n",
       "Flux, Destroyer of Due Diligence                 1\n",
       "Ghastly Adamantite Protector                     1\n",
       "Hellreaver, Heirloom of Inception                1\n",
       "Exiled Doomblade                                 1\n",
       "Foul Edge                                        1\n",
       "Soul-Forged Steel Shortsword                     1\n",
       "Sun Strike, Jaws of Twisted Visions              1\n",
       "Verdict                                          1\n",
       "Lightning, Etcher of the King                    1\n",
       "Name: Item Name, Length: 179, dtype: int64"
      ]
     },
     "execution_count": 16,
     "metadata": {},
     "output_type": "execute_result"
    }
   ],
   "source": [
    "popular = purchase_data[\"Item Name\"].value_counts()\n",
    "popular"
   ]
  },
  {
   "cell_type": "code",
   "execution_count": null,
   "metadata": {},
   "outputs": [],
   "source": []
  },
  {
   "cell_type": "code",
   "execution_count": 17,
   "metadata": {},
   "outputs": [
    {
     "data": {
      "text/html": [
       "<div>\n",
       "<style scoped>\n",
       "    .dataframe tbody tr th:only-of-type {\n",
       "        vertical-align: middle;\n",
       "    }\n",
       "\n",
       "    .dataframe tbody tr th {\n",
       "        vertical-align: top;\n",
       "    }\n",
       "\n",
       "    .dataframe thead th {\n",
       "        text-align: right;\n",
       "    }\n",
       "</style>\n",
       "<table border=\"1\" class=\"dataframe\">\n",
       "  <thead>\n",
       "    <tr style=\"text-align: right;\">\n",
       "      <th></th>\n",
       "      <th>Average Purchase Price</th>\n",
       "      <th>Purchase Count</th>\n",
       "      <th>Total Purchase Value</th>\n",
       "    </tr>\n",
       "    <tr>\n",
       "      <th>SN</th>\n",
       "      <th></th>\n",
       "      <th></th>\n",
       "      <th></th>\n",
       "    </tr>\n",
       "  </thead>\n",
       "  <tbody>\n",
       "    <tr>\n",
       "      <th>Undirrala66</th>\n",
       "      <td>3.412000</td>\n",
       "      <td>5</td>\n",
       "      <td>17.06</td>\n",
       "    </tr>\n",
       "    <tr>\n",
       "      <th>Saedue76</th>\n",
       "      <td>3.390000</td>\n",
       "      <td>4</td>\n",
       "      <td>13.56</td>\n",
       "    </tr>\n",
       "    <tr>\n",
       "      <th>Mindimnya67</th>\n",
       "      <td>3.185000</td>\n",
       "      <td>4</td>\n",
       "      <td>12.74</td>\n",
       "    </tr>\n",
       "    <tr>\n",
       "      <th>Haellysu29</th>\n",
       "      <td>4.243333</td>\n",
       "      <td>3</td>\n",
       "      <td>12.73</td>\n",
       "    </tr>\n",
       "    <tr>\n",
       "      <th>Eoda93</th>\n",
       "      <td>3.860000</td>\n",
       "      <td>3</td>\n",
       "      <td>11.58</td>\n",
       "    </tr>\n",
       "  </tbody>\n",
       "</table>\n",
       "</div>"
      ],
      "text/plain": [
       "             Average Purchase Price  Purchase Count  Total Purchase Value\n",
       "SN                                                                       \n",
       "Undirrala66                3.412000               5                 17.06\n",
       "Saedue76                   3.390000               4                 13.56\n",
       "Mindimnya67                3.185000               4                 12.74\n",
       "Haellysu29                 4.243333               3                 12.73\n",
       "Eoda93                     3.860000               3                 11.58"
      ]
     },
     "execution_count": 17,
     "metadata": {},
     "output_type": "execute_result"
    }
   ],
   "source": [
    "top_spenders = purchase_data.groupby(\"SN\")[\"Item ID\"].count()\n",
    "top_spenders\n",
    "\n",
    "total_value = purchase_data.groupby(\"SN\")[\"Price\"].sum()\n",
    "total_value\n",
    "\n",
    "\n",
    "average_price = purchase_data.groupby(\"SN\")[\"Price\"].mean()\n",
    "average_price\n",
    "\n",
    "df_top = pd.DataFrame({\"Purchase Count\":top_spenders,\n",
    "                       \"Average Purchase Price\":average_price,\n",
    "                      \"Total Purchase Value\":total_value})\n",
    "df_top= df_top.sort_values(\"Total Purchase Value\", ascending= False)\n",
    "df_top.head()\n"
   ]
  },
  {
   "cell_type": "code",
   "execution_count": 20,
   "metadata": {},
   "outputs": [
    {
     "data": {
      "text/html": [
       "<div>\n",
       "<style scoped>\n",
       "    .dataframe tbody tr th:only-of-type {\n",
       "        vertical-align: middle;\n",
       "    }\n",
       "\n",
       "    .dataframe tbody tr th {\n",
       "        vertical-align: top;\n",
       "    }\n",
       "\n",
       "    .dataframe thead th {\n",
       "        text-align: right;\n",
       "    }\n",
       "</style>\n",
       "<table border=\"1\" class=\"dataframe\">\n",
       "  <thead>\n",
       "    <tr style=\"text-align: right;\">\n",
       "      <th></th>\n",
       "      <th>Item Price</th>\n",
       "      <th>Purchase Count</th>\n",
       "      <th>Total Purchase Value</th>\n",
       "    </tr>\n",
       "    <tr>\n",
       "      <th>Item ID</th>\n",
       "      <th></th>\n",
       "      <th></th>\n",
       "      <th></th>\n",
       "    </tr>\n",
       "  </thead>\n",
       "  <tbody>\n",
       "    <tr>\n",
       "      <th>39</th>\n",
       "      <td>2.35</td>\n",
       "      <td>11</td>\n",
       "      <td>25.85</td>\n",
       "    </tr>\n",
       "    <tr>\n",
       "      <th>84</th>\n",
       "      <td>2.23</td>\n",
       "      <td>11</td>\n",
       "      <td>24.53</td>\n",
       "    </tr>\n",
       "    <tr>\n",
       "      <th>31</th>\n",
       "      <td>2.07</td>\n",
       "      <td>9</td>\n",
       "      <td>18.63</td>\n",
       "    </tr>\n",
       "    <tr>\n",
       "      <th>175</th>\n",
       "      <td>1.24</td>\n",
       "      <td>9</td>\n",
       "      <td>11.16</td>\n",
       "    </tr>\n",
       "    <tr>\n",
       "      <th>13</th>\n",
       "      <td>1.49</td>\n",
       "      <td>9</td>\n",
       "      <td>13.41</td>\n",
       "    </tr>\n",
       "  </tbody>\n",
       "</table>\n",
       "</div>"
      ],
      "text/plain": [
       "         Item Price  Purchase Count  Total Purchase Value\n",
       "Item ID                                                  \n",
       "39             2.35              11                 25.85\n",
       "84             2.23              11                 24.53\n",
       "31             2.07               9                 18.63\n",
       "175            1.24               9                 11.16\n",
       "13             1.49               9                 13.41"
      ]
     },
     "execution_count": 20,
     "metadata": {},
     "output_type": "execute_result"
    }
   ],
   "source": [
    "popular_count = purchase_data.groupby(\"Item ID\")[\"Item ID\"].count()\n",
    "popular_count\n",
    "\n",
    "total_p_value = purchase_data.groupby(\"Item ID\")[\"Price\"].sum()\n",
    "total_p_value\n",
    "price_popular = purchase_data.groupby(\"Item ID\")[\"Price\"].mean()\n",
    "\n",
    "\n",
    "df_popular = pd.DataFrame({\n",
    "                          \"Purchase Count\":popular_count,\n",
    "                          \"Total Purchase Value\": total_p_value,\n",
    "                          \"Item Price\":price_popular })\n",
    "\n",
    "df_popular= df_popular.sort_values(\"Purchase Count\", ascending= False)\n",
    "df_popular.head()"
   ]
  },
  {
   "cell_type": "code",
   "execution_count": 23,
   "metadata": {},
   "outputs": [
    {
     "data": {
      "text/html": [
       "<div>\n",
       "<style scoped>\n",
       "    .dataframe tbody tr th:only-of-type {\n",
       "        vertical-align: middle;\n",
       "    }\n",
       "\n",
       "    .dataframe tbody tr th {\n",
       "        vertical-align: top;\n",
       "    }\n",
       "\n",
       "    .dataframe thead th {\n",
       "        text-align: right;\n",
       "    }\n",
       "</style>\n",
       "<table border=\"1\" class=\"dataframe\">\n",
       "  <thead>\n",
       "    <tr style=\"text-align: right;\">\n",
       "      <th></th>\n",
       "      <th>Item Price</th>\n",
       "      <th>Purchase Count</th>\n",
       "      <th>Total Purchase Value</th>\n",
       "    </tr>\n",
       "    <tr>\n",
       "      <th>Item ID</th>\n",
       "      <th></th>\n",
       "      <th></th>\n",
       "      <th></th>\n",
       "    </tr>\n",
       "  </thead>\n",
       "  <tbody>\n",
       "    <tr>\n",
       "      <th>34</th>\n",
       "      <td>4.14</td>\n",
       "      <td>9</td>\n",
       "      <td>37.26</td>\n",
       "    </tr>\n",
       "    <tr>\n",
       "      <th>115</th>\n",
       "      <td>4.25</td>\n",
       "      <td>7</td>\n",
       "      <td>29.75</td>\n",
       "    </tr>\n",
       "    <tr>\n",
       "      <th>32</th>\n",
       "      <td>4.95</td>\n",
       "      <td>6</td>\n",
       "      <td>29.70</td>\n",
       "    </tr>\n",
       "    <tr>\n",
       "      <th>103</th>\n",
       "      <td>4.87</td>\n",
       "      <td>6</td>\n",
       "      <td>29.22</td>\n",
       "    </tr>\n",
       "    <tr>\n",
       "      <th>107</th>\n",
       "      <td>3.61</td>\n",
       "      <td>8</td>\n",
       "      <td>28.88</td>\n",
       "    </tr>\n",
       "  </tbody>\n",
       "</table>\n",
       "</div>"
      ],
      "text/plain": [
       "         Item Price  Purchase Count  Total Purchase Value\n",
       "Item ID                                                  \n",
       "34             4.14               9                 37.26\n",
       "115            4.25               7                 29.75\n",
       "32             4.95               6                 29.70\n",
       "103            4.87               6                 29.22\n",
       "107            3.61               8                 28.88"
      ]
     },
     "execution_count": 23,
     "metadata": {},
     "output_type": "execute_result"
    }
   ],
   "source": [
    "most_profitable= purchase_data.groupby(\"Item ID\")[\"Item ID\"].count()\n",
    "\n",
    "total_profit_value = purchase_data.groupby(\"Item ID\")[\"Price\"].sum()\n",
    "\n",
    "price_profitable = purchase_data.groupby(\"Item ID\")[\"Price\"].mean()\n",
    "\n",
    "df_profitable = pd.DataFrame({\"Purchase Count\":most_profitable,\n",
    "                             \"Total Purchase Value\": total_profit_value,\n",
    "                             \"Item Price\":price_profitable})\n",
    "df_profitable = df_profitable.sort_values(\"Total Purchase Value\", ascending= False)\n",
    "df_profitable.head()"
   ]
  },
  {
   "cell_type": "code",
   "execution_count": null,
   "metadata": {},
   "outputs": [],
   "source": []
  }
 ],
 "metadata": {
  "kernelspec": {
   "display_name": "Python 3",
   "language": "python",
   "name": "python3"
  },
  "language_info": {
   "codemirror_mode": {
    "name": "ipython",
    "version": 3
   },
   "file_extension": ".py",
   "mimetype": "text/x-python",
   "name": "python",
   "nbconvert_exporter": "python",
   "pygments_lexer": "ipython3",
   "version": "3.6.4"
  }
 },
 "nbformat": 4,
 "nbformat_minor": 2
}
